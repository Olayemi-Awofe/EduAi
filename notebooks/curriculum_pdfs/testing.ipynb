{
 "cells": [
  {
   "cell_type": "code",
   "execution_count": 7,
   "id": "c10683a8",
   "metadata": {},
   "outputs": [],
   "source": [
    "import sqlite3\n",
    "import pandas as pd\n",
    "\n",
    "# --- Connect to your DB\n",
    "db_path = r\"C:\\Users\\HP\\Desktop\\EduAi\\db\\edu_ai.db\"\n",
    "conn = sqlite3.connect(db_path)\n",
    "cursor = conn.cursor()\n"
   ]
  },
  {
   "cell_type": "code",
   "execution_count": 8,
   "id": "e55bdb16",
   "metadata": {},
   "outputs": [
    {
     "name": "stdout",
     "output_type": "stream",
     "text": [
      "Tables in DB:\n",
      "    type              name          tbl_name  rootpage  \\\n",
      "0  table           schools           schools         2   \n",
      "1  table          teachers          teachers         8   \n",
      "2  table  curriculum_units  curriculum_units         4   \n",
      "3  table           lessons           lessons        10   \n",
      "4  table       assessments       assessments        14   \n",
      "5  table  teacher_progress  teacher_progress        12   \n",
      "6  table         audit_log         audit_log         6   \n",
      "\n",
      "                                                 sql  \n",
      "0  CREATE TABLE \"schools\" (\\n\"id\" TEXT,\\n  \"name\"...  \n",
      "1  CREATE TABLE \"teachers\" (\\n\"id\" TEXT,\\n  \"name...  \n",
      "2  CREATE TABLE \"curriculum_units\" (\\n\"id\" TEXT,\\...  \n",
      "3  CREATE TABLE \"lessons\" (\\n\"id\" TEXT,\\n  \"curri...  \n",
      "4  CREATE TABLE \"assessments\" (\\n\"id\" TEXT,\\n  \"l...  \n",
      "5  CREATE TABLE \"teacher_progress\" (\\n\"id\" TEXT,\\...  \n",
      "6  CREATE TABLE \"audit_log\" (\\n\"id\" TEXT,\\n  \"use...  \n"
     ]
    }
   ],
   "source": [
    "# --- Quick sanity check: list all tables\n",
    "tables = pd.read_sql(\"SELECT * FROM sqlite_master WHERE type='table';\", conn)\n",
    "print(\"Tables in DB:\")\n",
    "print(tables)\n"
   ]
  },
  {
   "cell_type": "code",
   "execution_count": 10,
   "id": "8457879b",
   "metadata": {},
   "outputs": [
    {
     "name": "stdout",
     "output_type": "stream",
     "text": [
      "\n",
      "Sample Schools:\n",
      "                                     id                      name      region  \\\n",
      "0  2f6688d2-90cb-4c51-8ca5-2c221f2d925c  Patience Memorial School  South East   \n",
      "1  e8fbeea1-90c5-48e4-a5ec-9241750b6ebb   St. Balogun High School  North West   \n",
      "2  016b6406-73f7-4327-abef-ddd2a4def814  Ekwueme Secondary School  South West   \n",
      "3  5fc6a40e-d267-424b-899b-6b2d02f63eb7      Mary Memorial School  North East   \n",
      "4  8f3a120e-17f2-46d2-beb2-8b18d0baeb5c   Joseph Secondary School  South West   \n",
      "\n",
      "  device_type  connectivity  \n",
      "0     desktop       offline  \n",
      "1      tablet  intermittent  \n",
      "2     desktop  intermittent  \n",
      "3      tablet  intermittent  \n",
      "4      laptop  intermittent  \n"
     ]
    }
   ],
   "source": [
    "# --- Example: view first 5 schools\n",
    "df_schools = pd.read_sql(\"SELECT * FROM schools LIMIT 5;\", conn)\n",
    "print(\"\\nSample Schools:\")\n",
    "print(df_schools)\n"
   ]
  },
  {
   "cell_type": "code",
   "execution_count": 11,
   "id": "fc59abd0",
   "metadata": {},
   "outputs": [
    {
     "name": "stdout",
     "output_type": "stream",
     "text": [
      "📘 Sample Lessons with Curriculum and Teacher:\n",
      "                              lesson_id      subject        curriculum_title  \\\n",
      "0  601656c9-f8bd-4413-943f-b76dd8e04827  Mathematics  Mathematics Curriculum   \n",
      "1  b66fd276-9363-4c34-9b28-bb15051f6b12   Government              Government   \n",
      "2  f6fa8857-6098-4cf6-a139-0a2dc23e7776        Hausa        Hausa Curriculum   \n",
      "3  c5d7afe6-34c8-4f84-951c-d781a89008fe  Mathematics  Mathematics Curriculum   \n",
      "4  35924f50-8702-4ffb-bcef-1e84b302675a   Economics               Economics    \n",
      "\n",
      "     teacher_name  \n",
      "0    Patience Ojo  \n",
      "1     Mary Chukwu  \n",
      "2  Joseph Ibrahim  \n",
      "3  Gabriel Okafor  \n",
      "4   Sarah Okonkwo   \n",
      "\n"
     ]
    }
   ],
   "source": [
    "sql_lessons = \"\"\"\n",
    "SELECT l.id AS lesson_id, c.subject, c.title AS curriculum_title, t.name AS teacher_name\n",
    "FROM lessons l\n",
    "JOIN curriculum_units c ON l.curriculum_unit_id = c.id\n",
    "JOIN teachers t ON l.teacher_id = t.id\n",
    "ORDER BY RANDOM()\n",
    "LIMIT 5;\n",
    "\"\"\"\n",
    "df_lessons = pd.read_sql(sql_lessons, conn)\n",
    "print(\"📘 Sample Lessons with Curriculum and Teacher:\")\n",
    "print(df_lessons, \"\\n\")"
   ]
  },
  {
   "cell_type": "code",
   "execution_count": null,
   "id": "223649c6",
   "metadata": {},
   "outputs": [],
   "source": []
  }
 ],
 "metadata": {
  "kernelspec": {
   "display_name": "venv (3.13.5)",
   "language": "python",
   "name": "python3"
  },
  "language_info": {
   "codemirror_mode": {
    "name": "ipython",
    "version": 3
   },
   "file_extension": ".py",
   "mimetype": "text/x-python",
   "name": "python",
   "nbconvert_exporter": "python",
   "pygments_lexer": "ipython3",
   "version": "3.13.5"
  }
 },
 "nbformat": 4,
 "nbformat_minor": 5
}
