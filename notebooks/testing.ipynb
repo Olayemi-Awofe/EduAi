{
 "cells": [
  {
   "cell_type": "code",
   "execution_count": null,
   "id": "c10683a8",
   "metadata": {},
   "outputs": [],
   "source": [
    "import sqlite3\n",
    "import pandas as pd\n",
    "\n",
    "# --- Connect to your DB\n",
    "db_path = r\"C:\\Users\\HP\\Desktop\\EduAi\\db\\edu_ai.db\"\n",
    "conn = sqlite3.connect(db_path)\n",
    "cursor = conn.cursor()\n"
   ]
  },
  {
   "cell_type": "code",
   "execution_count": null,
   "id": "e55bdb16",
   "metadata": {},
   "outputs": [],
   "source": [
    "# --- Quick sanity check: list all tables\n",
    "tables = pd.read_sql(\"SELECT * FROM sqlite_master WHERE type='table';\", conn)\n",
    "print(\"Tables in DB:\")\n",
    "print(tables)\n"
   ]
  },
  {
   "cell_type": "code",
   "execution_count": null,
   "id": "8457879b",
   "metadata": {},
   "outputs": [],
   "source": [
    "# --- Example: view first 5 schools\n",
    "df_schools = pd.read_sql(\"SELECT * FROM schools LIMIT 5;\", conn)\n",
    "print(\"\\nSample Schools:\")\n",
    "print(df_schools)\n"
   ]
  },
  {
   "cell_type": "code",
   "execution_count": null,
   "id": "fc59abd0",
   "metadata": {},
   "outputs": [],
   "source": [
    "sql_lessons = \"\"\"\n",
    "SELECT l.id AS lesson_id, c.subject, c.title AS curriculum_title, t.name AS teacher_name\n",
    "FROM lessons l\n",
    "JOIN curriculum_units c ON l.curriculum_unit_id = c.id\n",
    "JOIN teachers t ON l.teacher_id = t.id\n",
    "ORDER BY RANDOM()\n",
    "LIMIT 5;\n",
    "\"\"\"\n",
    "df_lessons = pd.read_sql(sql_lessons, conn)\n",
    "print(\"Sample Lessons with Curriculum and Teacher:\")\n",
    "print(df_lessons, \"\\n\")"
   ]
  },
  {
   "cell_type": "code",
   "execution_count": null,
   "id": "223649c6",
   "metadata": {},
   "outputs": [],
   "source": []
  }
 ],
 "metadata": {
  "kernelspec": {
   "display_name": "venv (3.13.5)",
   "language": "python",
   "name": "python3"
  },
  "language_info": {
   "codemirror_mode": {
    "name": "ipython",
    "version": 3
   },
   "file_extension": ".py",
   "mimetype": "text/x-python",
   "name": "python",
   "nbconvert_exporter": "python",
   "pygments_lexer": "ipython3",
   "version": "3.13.5"
  }
 },
 "nbformat": 4,
 "nbformat_minor": 5
}
